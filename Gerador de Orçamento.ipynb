{
 "cells": [
  {
   "cell_type": "markdown",
   "id": "855d8541",
   "metadata": {},
   "source": [
    "# Meu primeiro código Python"
   ]
  },
  {
   "cell_type": "code",
   "execution_count": 4,
   "id": "23f5a096",
   "metadata": {},
   "outputs": [
    {
     "name": "stdout",
     "output_type": "stream",
     "text": [
      "Orçamento gerado com sucesso!\n",
      "Semana do Python na prática\n"
     ]
    }
   ],
   "source": [
    "print(\"Orçamento gerado com sucesso!\")\n",
    "print(\"Semana do Python na prática\")"
   ]
  },
  {
   "cell_type": "markdown",
   "id": "7dedf38b",
   "metadata": {},
   "source": [
    "# Entrada de dados"
   ]
  },
  {
   "cell_type": "code",
   "execution_count": 1,
   "id": "4dc89a6d",
   "metadata": {},
   "outputs": [
    {
     "name": "stdout",
     "output_type": "stream",
     "text": [
      "Digite a descrição do projeto: Desenvolvimento web\n",
      "Digite o total de horas estimadas: 150\n",
      "Digite o valor da hora trabalhada: 200\n",
      "Digite o prazo estimado: 5 meses\n"
     ]
    },
    {
     "data": {
      "text/plain": [
       "'5 meses'"
      ]
     },
     "execution_count": 1,
     "metadata": {},
     "output_type": "execute_result"
    }
   ],
   "source": [
    "input(\"Digite a descrição do projeto: \")\n",
    "input(\"Digite o total de horas estimadas: \")\n",
    "input(\"Digite o valor da hora trabalhada: \")\n",
    "input(\"Digite o prazo estimado: \")"
   ]
  },
  {
   "cell_type": "markdown",
   "id": "51fa1cc8",
   "metadata": {},
   "source": [
    "# Guardando informações do usuário"
   ]
  },
  {
   "cell_type": "code",
   "execution_count": 5,
   "id": "953d409e",
   "metadata": {},
   "outputs": [
    {
     "name": "stdout",
     "output_type": "stream",
     "text": [
      "Digite a descrição do projeto: Desenvolvimento web\n",
      "Digite o total de horas estimadas:120\n",
      "Digite o valor da hora trabalhada: 100\n",
      "Digite o prazo estimado: 3 meses\n"
     ]
    }
   ],
   "source": [
    "projeto = input(\"Digite a descrição do projeto: \")\n",
    "horas_estimadas = input(\"Digite o total de horas estimadas:\")\n",
    "valor_hora = input(\"Digite o valor da hora trabalhada: \")\n",
    "prazo = input(\"Digite o prazo estimado: \")"
   ]
  },
  {
   "cell_type": "code",
   "execution_count": 7,
   "id": "8234d685",
   "metadata": {},
   "outputs": [
    {
     "name": "stdout",
     "output_type": "stream",
     "text": [
      "3 meses\n"
     ]
    }
   ],
   "source": [
    "print(prazo)"
   ]
  },
  {
   "cell_type": "markdown",
   "id": "354e0661",
   "metadata": {},
   "source": [
    "# Realizando cálculos"
   ]
  },
  {
   "cell_type": "code",
   "execution_count": 19,
   "id": "9ec4d2ff",
   "metadata": {},
   "outputs": [],
   "source": [
    "valor_total = int(horas_estimadas) * int(valor_hora)"
   ]
  },
  {
   "cell_type": "code",
   "execution_count": 20,
   "id": "55f12461",
   "metadata": {},
   "outputs": [
    {
     "data": {
      "text/plain": [
       "str"
      ]
     },
     "execution_count": 20,
     "metadata": {},
     "output_type": "execute_result"
    }
   ],
   "source": [
    "type(projeto)"
   ]
  },
  {
   "cell_type": "code",
   "execution_count": 21,
   "id": "654a5297",
   "metadata": {},
   "outputs": [
    {
     "name": "stdout",
     "output_type": "stream",
     "text": [
      "12000\n"
     ]
    }
   ],
   "source": [
    "print(valor_total)"
   ]
  },
  {
   "cell_type": "markdown",
   "id": "732e0207",
   "metadata": {},
   "source": [
    "# Gerando o PDF"
   ]
  },
  {
   "cell_type": "code",
   "execution_count": 22,
   "id": "240fa01f",
   "metadata": {},
   "outputs": [
    {
     "name": "stdout",
     "output_type": "stream",
     "text": [
      "Requirement already satisfied: fpdf in c:\\users\\optiplex 7050\\anaconda3\\lib\\site-packages (1.7.2)\n"
     ]
    }
   ],
   "source": [
    "!pip install fpdf"
   ]
  },
  {
   "cell_type": "code",
   "execution_count": 23,
   "id": "1503e5e6",
   "metadata": {},
   "outputs": [],
   "source": [
    "from fpdf import FPDF"
   ]
  },
  {
   "cell_type": "code",
   "execution_count": 26,
   "id": "4311da83",
   "metadata": {},
   "outputs": [
    {
     "name": "stdout",
     "output_type": "stream",
     "text": [
      "Orçamento gerado com sucesso!\n"
     ]
    }
   ],
   "source": [
    "pdf = FPDF()\n",
    "\n",
    "pdf.add_page()\n",
    "pdf.set_font(\"Arial\")\n",
    "\n",
    "pdf.image(\"template.png\")\n",
    "pdf.text(115, 145, projeto)\n",
    "pdf.text(115, 160, horas_estimadas)\n",
    "pdf.text(115, 175, valor_hora)\n",
    "pdf.text(115, 190, prazo)\n",
    "pdf.text(115, 205, str(valor_total))\n",
    "\n",
    "pdf.output(\"Orçamento.pdf\")\n",
    "print(\"Orçamento gerado com sucesso!\")"
   ]
  },
  {
   "cell_type": "code",
   "execution_count": null,
   "id": "3b8429f4",
   "metadata": {},
   "outputs": [],
   "source": []
  }
 ],
 "metadata": {
  "kernelspec": {
   "display_name": "Python 3 (ipykernel)",
   "language": "python",
   "name": "python3"
  },
  "language_info": {
   "codemirror_mode": {
    "name": "ipython",
    "version": 3
   },
   "file_extension": ".py",
   "mimetype": "text/x-python",
   "name": "python",
   "nbconvert_exporter": "python",
   "pygments_lexer": "ipython3",
   "version": "3.9.13"
  }
 },
 "nbformat": 4,
 "nbformat_minor": 5
}
